{
 "cells": [
  {
   "cell_type": "code",
   "execution_count": 1,
   "id": "5ba0bc89",
   "metadata": {
    "_cell_guid": "b1076dfc-b9ad-4769-8c92-a6c4dae69d19",
    "_uuid": "8f2839f25d086af736a60e9eeb907d3b93b6e0e5",
    "execution": {
     "iopub.execute_input": "2022-11-18T22:00:09.564380Z",
     "iopub.status.busy": "2022-11-18T22:00:09.563798Z",
     "iopub.status.idle": "2022-11-18T22:00:09.586289Z",
     "shell.execute_reply": "2022-11-18T22:00:09.585589Z"
    },
    "papermill": {
     "duration": 0.036265,
     "end_time": "2022-11-18T22:00:09.588642",
     "exception": false,
     "start_time": "2022-11-18T22:00:09.552377",
     "status": "completed"
    },
    "tags": []
   },
   "outputs": [
    {
     "name": "stdout",
     "output_type": "stream",
     "text": [
      "/kaggle/input/twitter-bot-detection/tweetsts1.csv\n",
      "/kaggle/input/twitter-bot-detection/tweetsspambot3.csv\n",
      "/kaggle/input/twitter-bot-detection/tweetsgenuine.csv\n",
      "/kaggle/input/twitter-bot-detection/tweetsspambot1.csv\n",
      "/kaggle/input/twitter-bot-detection/tweetsspambot2.csv\n"
     ]
    }
   ],
   "source": [
    "# This Python 3 environment comes with many helpful analytics libraries installed\n",
    "# It is defined by the kaggle/python Docker image: https://github.com/kaggle/docker-python\n",
    "# For example, here's several helpful packages to load\n",
    "\n",
    "import numpy as np # linear algebra\n",
    "import pandas as pd # data processing, CSV file I/O (e.g. pd.read_csv)\n",
    "\n",
    "# Input data files are available in the read-only \"../input/\" directory\n",
    "# For example, running this (by clicking run or pressing Shift+Enter) will list all files under the input directory\n",
    "\n",
    "import os\n",
    "for dirname, _, filenames in os.walk('/kaggle/input'):\n",
    "    for filename in filenames:\n",
    "        print(os.path.join(dirname, filename))\n",
    "\n",
    "# You can write up to 20GB to the current directory (/kaggle/working/) that gets preserved as output when you create a version using \"Save & Run All\" \n",
    "# You can also write temporary files to /kaggle/temp/, but they won't be saved outside of the current session"
   ]
  },
  {
   "cell_type": "markdown",
   "id": "6a730c84",
   "metadata": {
    "papermill": {
     "duration": 0.007859,
     "end_time": "2022-11-18T22:00:09.605063",
     "exception": false,
     "start_time": "2022-11-18T22:00:09.597204",
     "status": "completed"
    },
    "tags": []
   },
   "source": [
    "# **Loading and cleaning Data**"
   ]
  },
  {
   "cell_type": "code",
   "execution_count": 2,
   "id": "2c0bea9a",
   "metadata": {
    "execution": {
     "iopub.execute_input": "2022-11-18T22:00:09.623819Z",
     "iopub.status.busy": "2022-11-18T22:00:09.623233Z",
     "iopub.status.idle": "2022-11-18T22:01:37.675390Z",
     "shell.execute_reply": "2022-11-18T22:01:37.674318Z"
    },
    "papermill": {
     "duration": 88.064487,
     "end_time": "2022-11-18T22:01:37.677772",
     "exception": false,
     "start_time": "2022-11-18T22:00:09.613285",
     "status": "completed"
    },
    "tags": []
   },
   "outputs": [
    {
     "name": "stderr",
     "output_type": "stream",
     "text": [
      "/opt/conda/lib/python3.7/site-packages/IPython/core/interactiveshell.py:3552: DtypeWarning: Columns (0,1,2,3,4,5,6,7,8,9,10,11,12,13,16,17,18,19,20,21,22,23,24,25) have mixed types.Specify dtype option on import or set low_memory=False.\n",
      "  exec(code_obj, self.user_global_ns, self.user_ns)\n"
     ]
    }
   ],
   "source": [
    "realUserTweets = pd.read_csv('../input/twitter-bot-detection/tweetsgenuine.csv', on_bad_lines='skip')"
   ]
  },
  {
   "cell_type": "code",
   "execution_count": 3,
   "id": "85c39122",
   "metadata": {
    "execution": {
     "iopub.execute_input": "2022-11-18T22:01:37.696422Z",
     "iopub.status.busy": "2022-11-18T22:01:37.695761Z",
     "iopub.status.idle": "2022-11-18T22:01:40.673212Z",
     "shell.execute_reply": "2022-11-18T22:01:40.671855Z"
    },
    "papermill": {
     "duration": 2.990299,
     "end_time": "2022-11-18T22:01:40.676310",
     "exception": false,
     "start_time": "2022-11-18T22:01:37.686011",
     "status": "completed"
    },
    "tags": []
   },
   "outputs": [],
   "source": [
    "realUserTweets = realUserTweets.drop(columns=['0.4'])"
   ]
  },
  {
   "cell_type": "code",
   "execution_count": 4,
   "id": "c2971915",
   "metadata": {
    "execution": {
     "iopub.execute_input": "2022-11-18T22:01:40.696349Z",
     "iopub.status.busy": "2022-11-18T22:01:40.695383Z",
     "iopub.status.idle": "2022-11-18T22:01:40.702330Z",
     "shell.execute_reply": "2022-11-18T22:01:40.701732Z"
    },
    "papermill": {
     "duration": 0.019443,
     "end_time": "2022-11-18T22:01:40.704176",
     "exception": false,
     "start_time": "2022-11-18T22:01:40.684733",
     "status": "completed"
    },
    "tags": []
   },
   "outputs": [],
   "source": [
    "realUserTweets.columns = ['id', 'text', 'source', 'user_id', 'truncated', 'in_reply_to_status_id', 'in_reply_to_user_id', 'in_reply_to_screen_name', 'retweeted_status_id', 'geo', 'place', 'contributors', 'retweet_count', 'reply_count', 'favorite_count', 'favorited', 'retweeted', 'possibly_sensitive', 'num_hashtags', 'num_urls', 'num_mentions', 'created_at', 'timestamp', 'crawled_at', 'updated']"
   ]
  },
  {
   "cell_type": "code",
   "execution_count": 5,
   "id": "271f07df",
   "metadata": {
    "execution": {
     "iopub.execute_input": "2022-11-18T22:01:40.723967Z",
     "iopub.status.busy": "2022-11-18T22:01:40.722529Z",
     "iopub.status.idle": "2022-11-18T22:01:49.655704Z",
     "shell.execute_reply": "2022-11-18T22:01:49.654494Z"
    },
    "papermill": {
     "duration": 8.945137,
     "end_time": "2022-11-18T22:01:49.657768",
     "exception": false,
     "start_time": "2022-11-18T22:01:40.712631",
     "status": "completed"
    },
    "tags": []
   },
   "outputs": [
    {
     "data": {
      "text/html": [
       "<div>\n",
       "<style scoped>\n",
       "    .dataframe tbody tr th:only-of-type {\n",
       "        vertical-align: middle;\n",
       "    }\n",
       "\n",
       "    .dataframe tbody tr th {\n",
       "        vertical-align: top;\n",
       "    }\n",
       "\n",
       "    .dataframe thead th {\n",
       "        text-align: right;\n",
       "    }\n",
       "</style>\n",
       "<table border=\"1\" class=\"dataframe\">\n",
       "  <thead>\n",
       "    <tr style=\"text-align: right;\">\n",
       "      <th></th>\n",
       "      <th>id</th>\n",
       "      <th>text</th>\n",
       "      <th>source</th>\n",
       "      <th>user_id</th>\n",
       "      <th>truncated</th>\n",
       "      <th>in_reply_to_status_id</th>\n",
       "      <th>in_reply_to_user_id</th>\n",
       "      <th>in_reply_to_screen_name</th>\n",
       "      <th>retweeted_status_id</th>\n",
       "      <th>geo</th>\n",
       "      <th>...</th>\n",
       "      <th>favorited</th>\n",
       "      <th>retweeted</th>\n",
       "      <th>possibly_sensitive</th>\n",
       "      <th>num_hashtags</th>\n",
       "      <th>num_urls</th>\n",
       "      <th>num_mentions</th>\n",
       "      <th>created_at</th>\n",
       "      <th>timestamp</th>\n",
       "      <th>crawled_at</th>\n",
       "      <th>updated</th>\n",
       "    </tr>\n",
       "  </thead>\n",
       "  <tbody>\n",
       "    <tr>\n",
       "      <th>0</th>\n",
       "      <td>593895316719423488</td>\n",
       "      <td>This age/face recognition thing..no reason pla...</td>\n",
       "      <td>&lt;a href=\\http://twitter.com\\\" rel=\\\"nofollow\\\"...</td>\n",
       "      <td>678033</td>\n",
       "      <td>NaN</td>\n",
       "      <td>0.0</td>\n",
       "      <td>0</td>\n",
       "      <td>NaN</td>\n",
       "      <td>0</td>\n",
       "      <td>\\N</td>\n",
       "      <td>...</td>\n",
       "      <td>0.0</td>\n",
       "      <td>NaN</td>\n",
       "      <td>NaN</td>\n",
       "      <td>\\N</td>\n",
       "      <td>0.0</td>\n",
       "      <td>0</td>\n",
       "      <td>Thu Apr 30 21:50:52 +0000 2015</td>\n",
       "      <td>2015-04-30 23:50:52</td>\n",
       "      <td>2015-05-01 12:57:19</td>\n",
       "      <td>2015-05-01 12:57:19</td>\n",
       "    </tr>\n",
       "    <tr>\n",
       "      <th>1</th>\n",
       "      <td>593880638069018624</td>\n",
       "      <td>Only upside of the moment I can think of is th...</td>\n",
       "      <td>&lt;a href=\\http://twitter.com\\\" rel=\\\"nofollow\\\"...</td>\n",
       "      <td>678033</td>\n",
       "      <td>NaN</td>\n",
       "      <td>0.0</td>\n",
       "      <td>0</td>\n",
       "      <td>NaN</td>\n",
       "      <td>0</td>\n",
       "      <td>\\N</td>\n",
       "      <td>...</td>\n",
       "      <td>0.0</td>\n",
       "      <td>NaN</td>\n",
       "      <td>NaN</td>\n",
       "      <td>\\N</td>\n",
       "      <td>0.0</td>\n",
       "      <td>0</td>\n",
       "      <td>Thu Apr 30 20:52:32 +0000 2015</td>\n",
       "      <td>2015-04-30 22:52:32</td>\n",
       "      <td>2015-05-01 12:57:19</td>\n",
       "      <td>2015-05-01 12:57:19</td>\n",
       "    </tr>\n",
       "    <tr>\n",
       "      <th>2</th>\n",
       "      <td>593847955536252928</td>\n",
       "      <td>If you're going to think about+create experien...</td>\n",
       "      <td>&lt;a href=\\http://tapbots.com/tweetbot\\\" rel=\\\"n...</td>\n",
       "      <td>678033</td>\n",
       "      <td>NaN</td>\n",
       "      <td>0.0</td>\n",
       "      <td>0</td>\n",
       "      <td>NaN</td>\n",
       "      <td>0</td>\n",
       "      <td>\\N</td>\n",
       "      <td>...</td>\n",
       "      <td>1.0</td>\n",
       "      <td>NaN</td>\n",
       "      <td>NaN</td>\n",
       "      <td>\\N</td>\n",
       "      <td>0.0</td>\n",
       "      <td>0</td>\n",
       "      <td>Thu Apr 30 18:42:40 +0000 2015</td>\n",
       "      <td>2015-04-30 20:42:40</td>\n",
       "      <td>2015-05-01 12:57:19</td>\n",
       "      <td>2015-05-01 12:57:19</td>\n",
       "    </tr>\n",
       "    <tr>\n",
       "      <th>3</th>\n",
       "      <td>593847687847350272</td>\n",
       "      <td>Watching a thread on FB about possible future ...</td>\n",
       "      <td>&lt;a href=\\http://tapbots.com/tweetbot\\\" rel=\\\"n...</td>\n",
       "      <td>678033</td>\n",
       "      <td>NaN</td>\n",
       "      <td>0.0</td>\n",
       "      <td>0</td>\n",
       "      <td>NaN</td>\n",
       "      <td>0</td>\n",
       "      <td>\\N</td>\n",
       "      <td>...</td>\n",
       "      <td>0.0</td>\n",
       "      <td>NaN</td>\n",
       "      <td>NaN</td>\n",
       "      <td>\\N</td>\n",
       "      <td>0.0</td>\n",
       "      <td>0</td>\n",
       "      <td>Thu Apr 30 18:41:36 +0000 2015</td>\n",
       "      <td>2015-04-30 20:41:36</td>\n",
       "      <td>2015-05-01 12:57:19</td>\n",
       "      <td>2015-05-01 12:57:19</td>\n",
       "    </tr>\n",
       "    <tr>\n",
       "      <th>4</th>\n",
       "      <td>593819412660101121</td>\n",
       "      <td>Don't. Ok? https://t.co/uTXrJ6zvdN</td>\n",
       "      <td>&lt;a href=\\http://instagram.com\\\" rel=\\\"nofollow...</td>\n",
       "      <td>678033</td>\n",
       "      <td>NaN</td>\n",
       "      <td>0.0</td>\n",
       "      <td>0</td>\n",
       "      <td>NaN</td>\n",
       "      <td>0</td>\n",
       "      <td>\\N</td>\n",
       "      <td>...</td>\n",
       "      <td>1.0</td>\n",
       "      <td>NaN</td>\n",
       "      <td>NaN</td>\n",
       "      <td>NaN</td>\n",
       "      <td>1.0</td>\n",
       "      <td>0</td>\n",
       "      <td>Thu Apr 30 16:49:15 +0000 2015</td>\n",
       "      <td>2015-04-30 18:49:15</td>\n",
       "      <td>2015-05-01 12:57:19</td>\n",
       "      <td>2015-05-01 12:57:19</td>\n",
       "    </tr>\n",
       "    <tr>\n",
       "      <th>...</th>\n",
       "      <td>...</td>\n",
       "      <td>...</td>\n",
       "      <td>...</td>\n",
       "      <td>...</td>\n",
       "      <td>...</td>\n",
       "      <td>...</td>\n",
       "      <td>...</td>\n",
       "      <td>...</td>\n",
       "      <td>...</td>\n",
       "      <td>...</td>\n",
       "      <td>...</td>\n",
       "      <td>...</td>\n",
       "      <td>...</td>\n",
       "      <td>...</td>\n",
       "      <td>...</td>\n",
       "      <td>...</td>\n",
       "      <td>...</td>\n",
       "      <td>...</td>\n",
       "      <td>...</td>\n",
       "      <td>...</td>\n",
       "      <td>...</td>\n",
       "    </tr>\n",
       "    <tr>\n",
       "      <th>9827418</th>\n",
       "      <td>582446818497183744</td>\n",
       "      <td>RT @tyleroakley: ahhhh! I see #BringYoutubersT...</td>\n",
       "      <td>&lt;a href=\\http://twitter.com\\\" rel=\\\"nofollow\\\"...</td>\n",
       "      <td>147900782</td>\n",
       "      <td>NaN</td>\n",
       "      <td>0</td>\n",
       "      <td>0</td>\n",
       "      <td>NaN</td>\n",
       "      <td>582446466494414848</td>\n",
       "      <td>\\N</td>\n",
       "      <td>...</td>\n",
       "      <td>0.0</td>\n",
       "      <td>NaN</td>\n",
       "      <td>NaN</td>\n",
       "      <td>\\N</td>\n",
       "      <td>0</td>\n",
       "      <td>1</td>\n",
       "      <td>Mon Mar 30 07:38:37 +0000 2015</td>\n",
       "      <td>2015-03-30 09:38:37</td>\n",
       "      <td>2015-05-02 12:44:46</td>\n",
       "      <td>2015-05-02 12:44:46</td>\n",
       "    </tr>\n",
       "    <tr>\n",
       "      <th>9827419</th>\n",
       "      <td>582446006366679040</td>\n",
       "      <td>RT @9GAG: Heaven is a place on earth with you ...</td>\n",
       "      <td>&lt;a href=\\http://twitter.com\\\" rel=\\\"nofollow\\\"...</td>\n",
       "      <td>147900782</td>\n",
       "      <td>NaN</td>\n",
       "      <td>0</td>\n",
       "      <td>0</td>\n",
       "      <td>NaN</td>\n",
       "      <td>582444592366153728</td>\n",
       "      <td>\\N</td>\n",
       "      <td>...</td>\n",
       "      <td>0.0</td>\n",
       "      <td>NaN</td>\n",
       "      <td>NaN</td>\n",
       "      <td>NaN</td>\n",
       "      <td>0</td>\n",
       "      <td>1</td>\n",
       "      <td>Mon Mar 30 07:35:23 +0000 2015</td>\n",
       "      <td>2015-03-30 09:35:23</td>\n",
       "      <td>2015-05-02 12:44:46</td>\n",
       "      <td>2015-05-02 12:44:46</td>\n",
       "    </tr>\n",
       "    <tr>\n",
       "      <th>9827420</th>\n",
       "      <td>582402643928096769</td>\n",
       "      <td>WOAH. #LowerPricesForHoneymoonTourPH needs to ...</td>\n",
       "      <td>&lt;a href=\\http://twitter.com\\\" rel=\\\"nofollow\\\"...</td>\n",
       "      <td>147900782</td>\n",
       "      <td>NaN</td>\n",
       "      <td>0</td>\n",
       "      <td>0</td>\n",
       "      <td>NaN</td>\n",
       "      <td>0</td>\n",
       "      <td>\\N</td>\n",
       "      <td>...</td>\n",
       "      <td>0.0</td>\n",
       "      <td>NaN</td>\n",
       "      <td>NaN</td>\n",
       "      <td>\\N</td>\n",
       "      <td>0</td>\n",
       "      <td>0</td>\n",
       "      <td>Mon Mar 30 04:43:05 +0000 2015</td>\n",
       "      <td>2015-03-30 06:43:05</td>\n",
       "      <td>2015-05-02 12:44:46</td>\n",
       "      <td>2015-05-02 12:44:46</td>\n",
       "    </tr>\n",
       "    <tr>\n",
       "      <th>9827421</th>\n",
       "      <td>582402404059996160</td>\n",
       "      <td>Let me start off with a clean slate.</td>\n",
       "      <td>&lt;a href=\\http://twitter.com\\\" rel=\\\"nofollow\\\"...</td>\n",
       "      <td>147900782</td>\n",
       "      <td>NaN</td>\n",
       "      <td>0</td>\n",
       "      <td>0</td>\n",
       "      <td>NaN</td>\n",
       "      <td>0</td>\n",
       "      <td>\\N</td>\n",
       "      <td>...</td>\n",
       "      <td>0.0</td>\n",
       "      <td>NaN</td>\n",
       "      <td>NaN</td>\n",
       "      <td>\\N</td>\n",
       "      <td>0</td>\n",
       "      <td>0</td>\n",
       "      <td>Mon Mar 30 04:42:08 +0000 2015</td>\n",
       "      <td>2015-03-30 06:42:08</td>\n",
       "      <td>2015-05-02 12:44:46</td>\n",
       "      <td>2015-10-12 11:51:23</td>\n",
       "    </tr>\n",
       "    <tr>\n",
       "      <th>9827422</th>\n",
       "      <td>581817937528410112</td>\n",
       "      <td>@5soskittle @HiOrHeyRecords @5SOS I know! I ca...</td>\n",
       "      <td>&lt;a href=\\http://twitter.com/download/android\\\"...</td>\n",
       "      <td>147900782</td>\n",
       "      <td>NaN</td>\n",
       "      <td>581817608074186752</td>\n",
       "      <td>523267467</td>\n",
       "      <td>5soskittle</td>\n",
       "      <td>0</td>\n",
       "      <td>\\N</td>\n",
       "      <td>...</td>\n",
       "      <td>0.0</td>\n",
       "      <td>NaN</td>\n",
       "      <td>NaN</td>\n",
       "      <td>\\N</td>\n",
       "      <td>0</td>\n",
       "      <td>4</td>\n",
       "      <td>Sat Mar 28 13:59:40 +0000 2015</td>\n",
       "      <td>2015-03-28 14:59:40</td>\n",
       "      <td>2015-05-02 12:44:46</td>\n",
       "      <td>2015-05-02 12:44:46</td>\n",
       "    </tr>\n",
       "  </tbody>\n",
       "</table>\n",
       "<p>9827423 rows × 25 columns</p>\n",
       "</div>"
      ],
      "text/plain": [
       "                         id  \\\n",
       "0        593895316719423488   \n",
       "1        593880638069018624   \n",
       "2        593847955536252928   \n",
       "3        593847687847350272   \n",
       "4        593819412660101121   \n",
       "...                     ...   \n",
       "9827418  582446818497183744   \n",
       "9827419  582446006366679040   \n",
       "9827420  582402643928096769   \n",
       "9827421  582402404059996160   \n",
       "9827422  581817937528410112   \n",
       "\n",
       "                                                      text  \\\n",
       "0        This age/face recognition thing..no reason pla...   \n",
       "1        Only upside of the moment I can think of is th...   \n",
       "2        If you're going to think about+create experien...   \n",
       "3        Watching a thread on FB about possible future ...   \n",
       "4                       Don't. Ok? https://t.co/uTXrJ6zvdN   \n",
       "...                                                    ...   \n",
       "9827418  RT @tyleroakley: ahhhh! I see #BringYoutubersT...   \n",
       "9827419  RT @9GAG: Heaven is a place on earth with you ...   \n",
       "9827420  WOAH. #LowerPricesForHoneymoonTourPH needs to ...   \n",
       "9827421               Let me start off with a clean slate.   \n",
       "9827422  @5soskittle @HiOrHeyRecords @5SOS I know! I ca...   \n",
       "\n",
       "                                                    source    user_id  \\\n",
       "0        <a href=\\http://twitter.com\\\" rel=\\\"nofollow\\\"...     678033   \n",
       "1        <a href=\\http://twitter.com\\\" rel=\\\"nofollow\\\"...     678033   \n",
       "2        <a href=\\http://tapbots.com/tweetbot\\\" rel=\\\"n...     678033   \n",
       "3        <a href=\\http://tapbots.com/tweetbot\\\" rel=\\\"n...     678033   \n",
       "4        <a href=\\http://instagram.com\\\" rel=\\\"nofollow...     678033   \n",
       "...                                                    ...        ...   \n",
       "9827418  <a href=\\http://twitter.com\\\" rel=\\\"nofollow\\\"...  147900782   \n",
       "9827419  <a href=\\http://twitter.com\\\" rel=\\\"nofollow\\\"...  147900782   \n",
       "9827420  <a href=\\http://twitter.com\\\" rel=\\\"nofollow\\\"...  147900782   \n",
       "9827421  <a href=\\http://twitter.com\\\" rel=\\\"nofollow\\\"...  147900782   \n",
       "9827422  <a href=\\http://twitter.com/download/android\\\"...  147900782   \n",
       "\n",
       "        truncated in_reply_to_status_id in_reply_to_user_id  \\\n",
       "0             NaN                   0.0                   0   \n",
       "1             NaN                   0.0                   0   \n",
       "2             NaN                   0.0                   0   \n",
       "3             NaN                   0.0                   0   \n",
       "4             NaN                   0.0                   0   \n",
       "...           ...                   ...                 ...   \n",
       "9827418       NaN                     0                   0   \n",
       "9827419       NaN                     0                   0   \n",
       "9827420       NaN                     0                   0   \n",
       "9827421       NaN                     0                   0   \n",
       "9827422       NaN    581817608074186752           523267467   \n",
       "\n",
       "        in_reply_to_screen_name retweeted_status_id geo  ... favorited  \\\n",
       "0                           NaN                   0  \\N  ...       0.0   \n",
       "1                           NaN                   0  \\N  ...       0.0   \n",
       "2                           NaN                   0  \\N  ...       1.0   \n",
       "3                           NaN                   0  \\N  ...       0.0   \n",
       "4                           NaN                   0  \\N  ...       1.0   \n",
       "...                         ...                 ...  ..  ...       ...   \n",
       "9827418                     NaN  582446466494414848  \\N  ...       0.0   \n",
       "9827419                     NaN  582444592366153728  \\N  ...       0.0   \n",
       "9827420                     NaN                   0  \\N  ...       0.0   \n",
       "9827421                     NaN                   0  \\N  ...       0.0   \n",
       "9827422              5soskittle                   0  \\N  ...       0.0   \n",
       "\n",
       "        retweeted possibly_sensitive num_hashtags  num_urls  num_mentions  \\\n",
       "0             NaN                NaN           \\N       0.0             0   \n",
       "1             NaN                NaN           \\N       0.0             0   \n",
       "2             NaN                NaN           \\N       0.0             0   \n",
       "3             NaN                NaN           \\N       0.0             0   \n",
       "4             NaN                NaN          NaN       1.0             0   \n",
       "...           ...                ...          ...       ...           ...   \n",
       "9827418       NaN                NaN           \\N         0             1   \n",
       "9827419       NaN                NaN          NaN         0             1   \n",
       "9827420       NaN                NaN           \\N         0             0   \n",
       "9827421       NaN                NaN           \\N         0             0   \n",
       "9827422       NaN                NaN           \\N         0             4   \n",
       "\n",
       "                             created_at            timestamp  \\\n",
       "0        Thu Apr 30 21:50:52 +0000 2015  2015-04-30 23:50:52   \n",
       "1        Thu Apr 30 20:52:32 +0000 2015  2015-04-30 22:52:32   \n",
       "2        Thu Apr 30 18:42:40 +0000 2015  2015-04-30 20:42:40   \n",
       "3        Thu Apr 30 18:41:36 +0000 2015  2015-04-30 20:41:36   \n",
       "4        Thu Apr 30 16:49:15 +0000 2015  2015-04-30 18:49:15   \n",
       "...                                 ...                  ...   \n",
       "9827418  Mon Mar 30 07:38:37 +0000 2015  2015-03-30 09:38:37   \n",
       "9827419  Mon Mar 30 07:35:23 +0000 2015  2015-03-30 09:35:23   \n",
       "9827420  Mon Mar 30 04:43:05 +0000 2015  2015-03-30 06:43:05   \n",
       "9827421  Mon Mar 30 04:42:08 +0000 2015  2015-03-30 06:42:08   \n",
       "9827422  Sat Mar 28 13:59:40 +0000 2015  2015-03-28 14:59:40   \n",
       "\n",
       "                  crawled_at              updated  \n",
       "0        2015-05-01 12:57:19  2015-05-01 12:57:19  \n",
       "1        2015-05-01 12:57:19  2015-05-01 12:57:19  \n",
       "2        2015-05-01 12:57:19  2015-05-01 12:57:19  \n",
       "3        2015-05-01 12:57:19  2015-05-01 12:57:19  \n",
       "4        2015-05-01 12:57:19  2015-05-01 12:57:19  \n",
       "...                      ...                  ...  \n",
       "9827418  2015-05-02 12:44:46  2015-05-02 12:44:46  \n",
       "9827419  2015-05-02 12:44:46  2015-05-02 12:44:46  \n",
       "9827420  2015-05-02 12:44:46  2015-05-02 12:44:46  \n",
       "9827421  2015-05-02 12:44:46  2015-10-12 11:51:23  \n",
       "9827422  2015-05-02 12:44:46  2015-05-02 12:44:46  \n",
       "\n",
       "[9827423 rows x 25 columns]"
      ]
     },
     "execution_count": 5,
     "metadata": {},
     "output_type": "execute_result"
    }
   ],
   "source": [
    "realUserTweets "
   ]
  },
  {
   "cell_type": "code",
   "execution_count": 6,
   "id": "c3a0aa48",
   "metadata": {
    "execution": {
     "iopub.execute_input": "2022-11-18T22:01:49.678033Z",
     "iopub.status.busy": "2022-11-18T22:01:49.677671Z",
     "iopub.status.idle": "2022-11-18T22:02:18.884150Z",
     "shell.execute_reply": "2022-11-18T22:02:18.883257Z"
    },
    "papermill": {
     "duration": 29.219375,
     "end_time": "2022-11-18T22:02:18.886728",
     "exception": false,
     "start_time": "2022-11-18T22:01:49.667353",
     "status": "completed"
    },
    "tags": []
   },
   "outputs": [
    {
     "name": "stderr",
     "output_type": "stream",
     "text": [
      "/opt/conda/lib/python3.7/site-packages/IPython/core/interactiveshell.py:3552: DtypeWarning: Columns (10) have mixed types.Specify dtype option on import or set low_memory=False.\n",
      "  exec(code_obj, self.user_global_ns, self.user_ns)\n",
      "/opt/conda/lib/python3.7/site-packages/IPython/core/interactiveshell.py:3552: DtypeWarning: Columns (7,10) have mixed types.Specify dtype option on import or set low_memory=False.\n",
      "  exec(code_obj, self.user_global_ns, self.user_ns)\n"
     ]
    }
   ],
   "source": [
    "sb1 = pd.read_csv('../input/twitter-bot-detection/tweetsspambot1.csv', encoding='latin-1')\n",
    "sb2 = pd.read_csv('../input/twitter-bot-detection/tweetsspambot2.csv', encoding='latin-1')\n",
    "sb3 = pd.read_csv('../input/twitter-bot-detection/tweetsspambot3.csv', encoding='latin-1')"
   ]
  },
  {
   "cell_type": "code",
   "execution_count": 7,
   "id": "07ad1c4c",
   "metadata": {
    "execution": {
     "iopub.execute_input": "2022-11-18T22:02:18.910167Z",
     "iopub.status.busy": "2022-11-18T22:02:18.909539Z",
     "iopub.status.idle": "2022-11-18T22:02:19.883902Z",
     "shell.execute_reply": "2022-11-18T22:02:19.882653Z"
    },
    "papermill": {
     "duration": 0.988779,
     "end_time": "2022-11-18T22:02:19.886547",
     "exception": false,
     "start_time": "2022-11-18T22:02:18.897768",
     "status": "completed"
    },
    "tags": []
   },
   "outputs": [],
   "source": [
    "socialBotTweets = pd.concat([sb1, sb2, sb3])"
   ]
  },
  {
   "cell_type": "code",
   "execution_count": 8,
   "id": "f0e819a3",
   "metadata": {
    "execution": {
     "iopub.execute_input": "2022-11-18T22:02:19.906944Z",
     "iopub.status.busy": "2022-11-18T22:02:19.906588Z",
     "iopub.status.idle": "2022-11-18T22:02:20.934684Z",
     "shell.execute_reply": "2022-11-18T22:02:20.933098Z"
    },
    "papermill": {
     "duration": 1.041102,
     "end_time": "2022-11-18T22:02:20.937396",
     "exception": false,
     "start_time": "2022-11-18T22:02:19.896294",
     "status": "completed"
    },
    "tags": []
   },
   "outputs": [],
   "source": [
    "socialBotTweets = socialBotTweets.drop(columns=['id', 'source', 'user_id', 'truncated', 'in_reply_to_status_id', 'in_reply_to_user_id', 'in_reply_to_screen_name', 'retweeted_status_id', 'geo', 'place', 'contributors', 'retweet_count', 'reply_count', 'favorite_count', 'favorited', 'retweeted', 'possibly_sensitive', 'num_hashtags', 'num_urls', 'num_mentions', 'created_at', 'timestamp', 'crawled_at', 'updated' ])"
   ]
  },
  {
   "cell_type": "code",
   "execution_count": 9,
   "id": "b1320b05",
   "metadata": {
    "execution": {
     "iopub.execute_input": "2022-11-18T22:02:20.956870Z",
     "iopub.status.busy": "2022-11-18T22:02:20.956514Z",
     "iopub.status.idle": "2022-11-18T22:02:20.968741Z",
     "shell.execute_reply": "2022-11-18T22:02:20.967215Z"
    },
    "papermill": {
     "duration": 0.024857,
     "end_time": "2022-11-18T22:02:20.971228",
     "exception": false,
     "start_time": "2022-11-18T22:02:20.946371",
     "status": "completed"
    },
    "tags": []
   },
   "outputs": [
    {
     "data": {
      "text/html": [
       "<div>\n",
       "<style scoped>\n",
       "    .dataframe tbody tr th:only-of-type {\n",
       "        vertical-align: middle;\n",
       "    }\n",
       "\n",
       "    .dataframe tbody tr th {\n",
       "        vertical-align: top;\n",
       "    }\n",
       "\n",
       "    .dataframe thead th {\n",
       "        text-align: right;\n",
       "    }\n",
       "</style>\n",
       "<table border=\"1\" class=\"dataframe\">\n",
       "  <thead>\n",
       "    <tr style=\"text-align: right;\">\n",
       "      <th></th>\n",
       "      <th>text</th>\n",
       "    </tr>\n",
       "  </thead>\n",
       "  <tbody>\n",
       "    <tr>\n",
       "      <th>0</th>\n",
       "      <td>I Pooh - In silenzio 1968 http://t.co/ahvQxUqTws</td>\n",
       "    </tr>\n",
       "    <tr>\n",
       "      <th>1</th>\n",
       "      <td>http://t.co/HyI5EQKz6Q</td>\n",
       "    </tr>\n",
       "    <tr>\n",
       "      <th>2</th>\n",
       "      <td>Tutti a tavola, con il filetto di baccalÃ . ht...</td>\n",
       "    </tr>\n",
       "    <tr>\n",
       "      <th>3</th>\n",
       "      <td>http://t.co/NAHQ4l2pUy</td>\n",
       "    </tr>\n",
       "    <tr>\n",
       "      <th>4</th>\n",
       "      <td>Gold - Spandau Ballet http://t.co/o8ZJHt7Neu</td>\n",
       "    </tr>\n",
       "    <tr>\n",
       "      <th>...</th>\n",
       "      <td>...</td>\n",
       "    </tr>\n",
       "    <tr>\n",
       "      <th>1418552</th>\n",
       "      <td>\"Philosophy is the sum total of all that you k...</td>\n",
       "    </tr>\n",
       "    <tr>\n",
       "      <th>1418553</th>\n",
       "      <td>\"You cannot change your destination overnight,...</td>\n",
       "    </tr>\n",
       "    <tr>\n",
       "      <th>1418554</th>\n",
       "      <td>ï¿½Formal education will make you a living, se...</td>\n",
       "    </tr>\n",
       "    <tr>\n",
       "      <th>1418555</th>\n",
       "      <td>\"Don't mistake movement for achievement. It's ...</td>\n",
       "    </tr>\n",
       "    <tr>\n",
       "      <th>1418556</th>\n",
       "      <td>\"Emotions will either serve or master, dependi...</td>\n",
       "    </tr>\n",
       "  </tbody>\n",
       "</table>\n",
       "<p>3457133 rows × 1 columns</p>\n",
       "</div>"
      ],
      "text/plain": [
       "                                                      text\n",
       "0         I Pooh - In silenzio 1968 http://t.co/ahvQxUqTws\n",
       "1                                   http://t.co/HyI5EQKz6Q\n",
       "2        Tutti a tavola, con il filetto di baccalÃ . ht...\n",
       "3                                   http://t.co/NAHQ4l2pUy\n",
       "4             Gold - Spandau Ballet http://t.co/o8ZJHt7Neu\n",
       "...                                                    ...\n",
       "1418552  \"Philosophy is the sum total of all that you k...\n",
       "1418553  \"You cannot change your destination overnight,...\n",
       "1418554  ï¿½Formal education will make you a living, se...\n",
       "1418555  \"Don't mistake movement for achievement. It's ...\n",
       "1418556  \"Emotions will either serve or master, dependi...\n",
       "\n",
       "[3457133 rows x 1 columns]"
      ]
     },
     "execution_count": 9,
     "metadata": {},
     "output_type": "execute_result"
    }
   ],
   "source": [
    "socialBotTweets "
   ]
  },
  {
   "cell_type": "code",
   "execution_count": 10,
   "id": "1536d339",
   "metadata": {
    "execution": {
     "iopub.execute_input": "2022-11-18T22:02:20.992371Z",
     "iopub.status.busy": "2022-11-18T22:02:20.991947Z",
     "iopub.status.idle": "2022-11-18T22:02:21.164284Z",
     "shell.execute_reply": "2022-11-18T22:02:21.162386Z"
    },
    "papermill": {
     "duration": 0.185927,
     "end_time": "2022-11-18T22:02:21.166858",
     "exception": false,
     "start_time": "2022-11-18T22:02:20.980931",
     "status": "completed"
    },
    "tags": []
   },
   "outputs": [
    {
     "data": {
      "text/plain": [
       "0           I Pooh - In silenzio 1968 http://t.co/ahvQxUqTws\n",
       "1                                     http://t.co/HyI5EQKz6Q\n",
       "2          Tutti a tavola, con il filetto di baccalÃ . ht...\n",
       "3                                     http://t.co/NAHQ4l2pUy\n",
       "4               Gold - Spandau Ballet http://t.co/o8ZJHt7Neu\n",
       "                                 ...                        \n",
       "1418552    \"Philosophy is the sum total of all that you k...\n",
       "1418553    \"You cannot change your destination overnight,...\n",
       "1418554    ï¿½Formal education will make you a living, se...\n",
       "1418555    \"Don't mistake movement for achievement. It's ...\n",
       "1418556    \"Emotions will either serve or master, dependi...\n",
       "Name: text, Length: 3457133, dtype: object"
      ]
     },
     "execution_count": 10,
     "metadata": {},
     "output_type": "execute_result"
    }
   ],
   "source": [
    "socialBotTweets.text.astype(str)"
   ]
  },
  {
   "cell_type": "code",
   "execution_count": 11,
   "id": "494ba2b4",
   "metadata": {
    "execution": {
     "iopub.execute_input": "2022-11-18T22:02:21.188894Z",
     "iopub.status.busy": "2022-11-18T22:02:21.188528Z",
     "iopub.status.idle": "2022-11-18T22:02:22.294650Z",
     "shell.execute_reply": "2022-11-18T22:02:22.293664Z"
    },
    "papermill": {
     "duration": 1.120829,
     "end_time": "2022-11-18T22:02:22.297086",
     "exception": false,
     "start_time": "2022-11-18T22:02:21.176257",
     "status": "completed"
    },
    "tags": []
   },
   "outputs": [],
   "source": [
    "tradBotTweets = pd.read_csv('../input/twitter-bot-detection/tweetsts1.csv', encoding='latin-1')"
   ]
  },
  {
   "cell_type": "code",
   "execution_count": 12,
   "id": "284ab3ad",
   "metadata": {
    "execution": {
     "iopub.execute_input": "2022-11-18T22:02:22.317568Z",
     "iopub.status.busy": "2022-11-18T22:02:22.317186Z",
     "iopub.status.idle": "2022-11-18T22:02:22.334030Z",
     "shell.execute_reply": "2022-11-18T22:02:22.332193Z"
    },
    "papermill": {
     "duration": 0.029018,
     "end_time": "2022-11-18T22:02:22.336136",
     "exception": false,
     "start_time": "2022-11-18T22:02:22.307118",
     "status": "completed"
    },
    "tags": []
   },
   "outputs": [],
   "source": [
    "tradBotTweets = tradBotTweets.drop(columns=['id', 'source', 'user_id', 'truncated', 'in_reply_to_status_id', 'in_reply_to_user_id', 'in_reply_to_screen_name', 'retweeted_status_id', 'geo', 'place', 'contributors', 'retweet_count', 'reply_count', 'favorite_count', 'favorited', 'retweeted', 'possibly_sensitive', 'num_hashtags', 'num_urls', 'num_mentions', 'created_at', 'timestamp', 'crawled_at', 'updated' ])"
   ]
  },
  {
   "cell_type": "code",
   "execution_count": 13,
   "id": "1701aeb0",
   "metadata": {
    "execution": {
     "iopub.execute_input": "2022-11-18T22:02:22.356340Z",
     "iopub.status.busy": "2022-11-18T22:02:22.355761Z",
     "iopub.status.idle": "2022-11-18T22:02:22.366126Z",
     "shell.execute_reply": "2022-11-18T22:02:22.365265Z"
    },
    "papermill": {
     "duration": 0.023092,
     "end_time": "2022-11-18T22:02:22.368425",
     "exception": false,
     "start_time": "2022-11-18T22:02:22.345333",
     "status": "completed"
    },
    "tags": []
   },
   "outputs": [
    {
     "data": {
      "text/html": [
       "<div>\n",
       "<style scoped>\n",
       "    .dataframe tbody tr th:only-of-type {\n",
       "        vertical-align: middle;\n",
       "    }\n",
       "\n",
       "    .dataframe tbody tr th {\n",
       "        vertical-align: top;\n",
       "    }\n",
       "\n",
       "    .dataframe thead th {\n",
       "        text-align: right;\n",
       "    }\n",
       "</style>\n",
       "<table border=\"1\" class=\"dataframe\">\n",
       "  <thead>\n",
       "    <tr style=\"text-align: right;\">\n",
       "      <th></th>\n",
       "      <th>text</th>\n",
       "    </tr>\n",
       "  </thead>\n",
       "  <tbody>\n",
       "    <tr>\n",
       "      <th>0</th>\n",
       "      <td>CPPRI Recruitment 2010 at http://ping.fm/yp8zH</td>\n",
       "    </tr>\n",
       "    <tr>\n",
       "      <th>1</th>\n",
       "      <td>National Games Secretariat Recruitment 2010  :...</td>\n",
       "    </tr>\n",
       "    <tr>\n",
       "      <th>2</th>\n",
       "      <td>CIPET Recruitment Jobs at http://ping.fm/KnFCa</td>\n",
       "    </tr>\n",
       "    <tr>\n",
       "      <th>3</th>\n",
       "      <td>DIAT Recruitment 2010 at http://ping.fm/huS9m</td>\n",
       "    </tr>\n",
       "    <tr>\n",
       "      <th>4</th>\n",
       "      <td>BHEL Recruitment 2010 : http://ping.fm/PLWWA</td>\n",
       "    </tr>\n",
       "    <tr>\n",
       "      <th>...</th>\n",
       "      <td>...</td>\n",
       "    </tr>\n",
       "    <tr>\n",
       "      <th>145089</th>\n",
       "      <td>Adding the most interactive tweeps and unfollo...</td>\n",
       "    </tr>\n",
       "    <tr>\n",
       "      <th>145090</th>\n",
       "      <td>PREMIUM NO #MAISFOLLOWERS D\\xc3O MAIS DE 50.00...</td>\n",
       "    </tr>\n",
       "    <tr>\n",
       "      <th>145091</th>\n",
       "      <td>Que tal em at\\xe9 3 dias voc\\xea conseguir 500...</td>\n",
       "    </tr>\n",
       "    <tr>\n",
       "      <th>145092</th>\n",
       "      <td>http://twitpic.com/1iqyuv - Temos tudo para qu...</td>\n",
       "    </tr>\n",
       "    <tr>\n",
       "      <th>145093</th>\n",
       "      <td>Somos a PLATILLO EVENTOS, Festas, Eventos em g...</td>\n",
       "    </tr>\n",
       "  </tbody>\n",
       "</table>\n",
       "<p>145094 rows × 1 columns</p>\n",
       "</div>"
      ],
      "text/plain": [
       "                                                     text\n",
       "0          CPPRI Recruitment 2010 at http://ping.fm/yp8zH\n",
       "1       National Games Secretariat Recruitment 2010  :...\n",
       "2          CIPET Recruitment Jobs at http://ping.fm/KnFCa\n",
       "3           DIAT Recruitment 2010 at http://ping.fm/huS9m\n",
       "4            BHEL Recruitment 2010 : http://ping.fm/PLWWA\n",
       "...                                                   ...\n",
       "145089  Adding the most interactive tweeps and unfollo...\n",
       "145090  PREMIUM NO #MAISFOLLOWERS D\\xc3O MAIS DE 50.00...\n",
       "145091  Que tal em at\\xe9 3 dias voc\\xea conseguir 500...\n",
       "145092  http://twitpic.com/1iqyuv - Temos tudo para qu...\n",
       "145093  Somos a PLATILLO EVENTOS, Festas, Eventos em g...\n",
       "\n",
       "[145094 rows x 1 columns]"
      ]
     },
     "execution_count": 13,
     "metadata": {},
     "output_type": "execute_result"
    }
   ],
   "source": [
    "tradBotTweets"
   ]
  },
  {
   "cell_type": "code",
   "execution_count": 14,
   "id": "e64e3492",
   "metadata": {
    "execution": {
     "iopub.execute_input": "2022-11-18T22:02:22.390334Z",
     "iopub.status.busy": "2022-11-18T22:02:22.389152Z",
     "iopub.status.idle": "2022-11-18T22:02:23.860708Z",
     "shell.execute_reply": "2022-11-18T22:02:23.859297Z"
    },
    "papermill": {
     "duration": 1.485627,
     "end_time": "2022-11-18T22:02:23.863450",
     "exception": false,
     "start_time": "2022-11-18T22:02:22.377823",
     "status": "completed"
    },
    "tags": []
   },
   "outputs": [],
   "source": [
    "import nltk\n",
    "from nltk.tokenize import word_tokenize"
   ]
  },
  {
   "cell_type": "code",
   "execution_count": 15,
   "id": "a60724f6",
   "metadata": {
    "execution": {
     "iopub.execute_input": "2022-11-18T22:02:23.885026Z",
     "iopub.status.busy": "2022-11-18T22:02:23.883572Z",
     "iopub.status.idle": "2022-11-18T22:02:24.034666Z",
     "shell.execute_reply": "2022-11-18T22:02:24.033324Z"
    },
    "papermill": {
     "duration": 0.164219,
     "end_time": "2022-11-18T22:02:24.037180",
     "exception": false,
     "start_time": "2022-11-18T22:02:23.872961",
     "status": "completed"
    },
    "tags": []
   },
   "outputs": [],
   "source": [
    "realUserTweets = realUserTweets.drop(columns=['id', 'source', 'user_id', 'truncated', 'in_reply_to_status_id', 'in_reply_to_user_id', 'in_reply_to_screen_name', 'retweeted_status_id', 'geo', 'place', 'contributors', 'retweet_count', 'reply_count', 'favorite_count', 'favorited', 'retweeted', 'possibly_sensitive', 'num_hashtags', 'num_urls', 'num_mentions', 'created_at', 'timestamp', 'crawled_at', 'updated' ])"
   ]
  },
  {
   "cell_type": "code",
   "execution_count": 16,
   "id": "01cadc11",
   "metadata": {
    "execution": {
     "iopub.execute_input": "2022-11-18T22:02:24.059615Z",
     "iopub.status.busy": "2022-11-18T22:02:24.059261Z",
     "iopub.status.idle": "2022-11-18T22:02:24.064350Z",
     "shell.execute_reply": "2022-11-18T22:02:24.062983Z"
    },
    "papermill": {
     "duration": 0.018572,
     "end_time": "2022-11-18T22:02:24.066514",
     "exception": false,
     "start_time": "2022-11-18T22:02:24.047942",
     "status": "completed"
    },
    "tags": []
   },
   "outputs": [],
   "source": [
    "socialBotTweets = socialBotTweets[300000:]"
   ]
  },
  {
   "cell_type": "code",
   "execution_count": 17,
   "id": "aa434ae8",
   "metadata": {
    "execution": {
     "iopub.execute_input": "2022-11-18T22:02:24.086720Z",
     "iopub.status.busy": "2022-11-18T22:02:24.086061Z",
     "iopub.status.idle": "2022-11-18T22:02:24.090990Z",
     "shell.execute_reply": "2022-11-18T22:02:24.089964Z"
    },
    "papermill": {
     "duration": 0.017314,
     "end_time": "2022-11-18T22:02:24.093000",
     "exception": false,
     "start_time": "2022-11-18T22:02:24.075686",
     "status": "completed"
    },
    "tags": []
   },
   "outputs": [],
   "source": [
    "realUserTweets = realUserTweets[5000000:]"
   ]
  },
  {
   "cell_type": "code",
   "execution_count": 18,
   "id": "59dd2cb6",
   "metadata": {
    "execution": {
     "iopub.execute_input": "2022-11-18T22:02:24.112598Z",
     "iopub.status.busy": "2022-11-18T22:02:24.112211Z",
     "iopub.status.idle": "2022-11-18T22:02:24.162144Z",
     "shell.execute_reply": "2022-11-18T22:02:24.161194Z"
    },
    "papermill": {
     "duration": 0.062996,
     "end_time": "2022-11-18T22:02:24.165121",
     "exception": false,
     "start_time": "2022-11-18T22:02:24.102125",
     "status": "completed"
    },
    "tags": []
   },
   "outputs": [
    {
     "name": "stderr",
     "output_type": "stream",
     "text": [
      "/opt/conda/lib/python3.7/site-packages/ipykernel_launcher.py:2: SettingWithCopyWarning: \n",
      "A value is trying to be set on a copy of a slice from a DataFrame.\n",
      "Try using .loc[row_indexer,col_indexer] = value instead\n",
      "\n",
      "See the caveats in the documentation: https://pandas.pydata.org/pandas-docs/stable/user_guide/indexing.html#returning-a-view-versus-a-copy\n",
      "  \n"
     ]
    }
   ],
   "source": [
    "realUserTweets['type'] = 'Real user'\n",
    "socialBotTweets['type'] = 'Social bot'\n",
    "tradBotTweets['type'] = 'Traditional bot'"
   ]
  },
  {
   "cell_type": "code",
   "execution_count": 19,
   "id": "5a07f1a3",
   "metadata": {
    "execution": {
     "iopub.execute_input": "2022-11-18T22:02:24.186699Z",
     "iopub.status.busy": "2022-11-18T22:02:24.186336Z",
     "iopub.status.idle": "2022-11-18T22:02:24.695070Z",
     "shell.execute_reply": "2022-11-18T22:02:24.693070Z"
    },
    "papermill": {
     "duration": 0.522356,
     "end_time": "2022-11-18T22:02:24.697810",
     "exception": false,
     "start_time": "2022-11-18T22:02:24.175454",
     "status": "completed"
    },
    "tags": []
   },
   "outputs": [],
   "source": [
    "realUserTweets = realUserTweets.append(socialBotTweets)\n",
    "realUserTweets = realUserTweets.append(tradBotTweets)"
   ]
  },
  {
   "cell_type": "code",
   "execution_count": 20,
   "id": "6c52e90a",
   "metadata": {
    "execution": {
     "iopub.execute_input": "2022-11-18T22:02:24.718072Z",
     "iopub.status.busy": "2022-11-18T22:02:24.717674Z",
     "iopub.status.idle": "2022-11-18T22:02:26.343913Z",
     "shell.execute_reply": "2022-11-18T22:02:26.342359Z"
    },
    "papermill": {
     "duration": 1.639408,
     "end_time": "2022-11-18T22:02:26.346579",
     "exception": false,
     "start_time": "2022-11-18T22:02:24.707171",
     "status": "completed"
    },
    "tags": []
   },
   "outputs": [],
   "source": [
    "realUserTweets = realUserTweets.dropna()"
   ]
  },
  {
   "cell_type": "code",
   "execution_count": 21,
   "id": "871950db",
   "metadata": {
    "execution": {
     "iopub.execute_input": "2022-11-18T22:02:26.368015Z",
     "iopub.status.busy": "2022-11-18T22:02:26.367661Z",
     "iopub.status.idle": "2022-11-18T22:02:26.708240Z",
     "shell.execute_reply": "2022-11-18T22:02:26.706869Z"
    },
    "papermill": {
     "duration": 0.354061,
     "end_time": "2022-11-18T22:02:26.710792",
     "exception": false,
     "start_time": "2022-11-18T22:02:26.356731",
     "status": "completed"
    },
    "tags": []
   },
   "outputs": [
    {
     "data": {
      "text/plain": [
       "5000000    RT @Factsionary: Monkeys at the Yale Universit...\n",
       "5000001    Is back at work with the peeps. Happy Easter e...\n",
       "5000002               @Yesenia_Garcia5 it's true what I said\n",
       "5000003                                   @Shizzlerrr where?\n",
       "5000004    Is back at work with the peeps and hoping for ...\n",
       "                                 ...                        \n",
       "145089     Adding the most interactive tweeps and unfollo...\n",
       "145090     PREMIUM NO #MAISFOLLOWERS D\\xc3O MAIS DE 50.00...\n",
       "145091     Que tal em at\\xe9 3 dias voc\\xea conseguir 500...\n",
       "145092     http://twitpic.com/1iqyuv - Temos tudo para qu...\n",
       "145093     Somos a PLATILLO EVENTOS, Festas, Eventos em g...\n",
       "Name: text, Length: 7971951, dtype: object"
      ]
     },
     "execution_count": 21,
     "metadata": {},
     "output_type": "execute_result"
    }
   ],
   "source": [
    "realUserTweets.text.astype(str)"
   ]
  },
  {
   "cell_type": "markdown",
   "id": "98da89c3",
   "metadata": {
    "papermill": {
     "duration": 0.008731,
     "end_time": "2022-11-18T22:02:26.729213",
     "exception": false,
     "start_time": "2022-11-18T22:02:26.720482",
     "status": "completed"
    },
    "tags": []
   },
   "source": [
    "# Doc2Vec"
   ]
  },
  {
   "cell_type": "code",
   "execution_count": 22,
   "id": "38424e4a",
   "metadata": {
    "execution": {
     "iopub.execute_input": "2022-11-18T22:02:26.749512Z",
     "iopub.status.busy": "2022-11-18T22:02:26.748684Z",
     "iopub.status.idle": "2022-11-18T22:02:27.052885Z",
     "shell.execute_reply": "2022-11-18T22:02:27.051574Z"
    },
    "papermill": {
     "duration": 0.317194,
     "end_time": "2022-11-18T22:02:27.055539",
     "exception": false,
     "start_time": "2022-11-18T22:02:26.738345",
     "status": "completed"
    },
    "tags": []
   },
   "outputs": [],
   "source": [
    "from sklearn.model_selection import train_test_split\n",
    "from gensim.models.doc2vec import Doc2Vec, TaggedDocument"
   ]
  },
  {
   "cell_type": "code",
   "execution_count": 23,
   "id": "fbd2a1d1",
   "metadata": {
    "execution": {
     "iopub.execute_input": "2022-11-18T22:02:27.076699Z",
     "iopub.status.busy": "2022-11-18T22:02:27.076287Z",
     "iopub.status.idle": "2022-11-18T22:02:30.126491Z",
     "shell.execute_reply": "2022-11-18T22:02:30.125465Z"
    },
    "papermill": {
     "duration": 3.063534,
     "end_time": "2022-11-18T22:02:30.128905",
     "exception": false,
     "start_time": "2022-11-18T22:02:27.065371",
     "status": "completed"
    },
    "tags": []
   },
   "outputs": [],
   "source": [
    "train, test = train_test_split(realUserTweets, test_size=0.3, random_state=42)"
   ]
  },
  {
   "cell_type": "code",
   "execution_count": 24,
   "id": "ef8c2a9d",
   "metadata": {
    "execution": {
     "iopub.execute_input": "2022-11-18T22:02:30.149698Z",
     "iopub.status.busy": "2022-11-18T22:02:30.149299Z",
     "iopub.status.idle": "2022-11-18T22:28:11.424209Z",
     "shell.execute_reply": "2022-11-18T22:28:11.422763Z"
    },
    "papermill": {
     "duration": 1541.288355,
     "end_time": "2022-11-18T22:28:11.426822",
     "exception": false,
     "start_time": "2022-11-18T22:02:30.138467",
     "status": "completed"
    },
    "tags": []
   },
   "outputs": [],
   "source": [
    "train_tag = train.apply(lambda x: TaggedDocument(words=word_tokenize(x['text']), tags=[x.type]), axis=1)\n",
    "\n",
    "test_tag = test.apply(lambda x: TaggedDocument(words=word_tokenize(x['text']), tags=[x.type]), axis=1)"
   ]
  },
  {
   "cell_type": "code",
   "execution_count": 25,
   "id": "f70a8a5c",
   "metadata": {
    "execution": {
     "iopub.execute_input": "2022-11-18T22:28:11.448917Z",
     "iopub.status.busy": "2022-11-18T22:28:11.448533Z",
     "iopub.status.idle": "2022-11-18T22:29:01.612433Z",
     "shell.execute_reply": "2022-11-18T22:29:01.611319Z"
    },
    "papermill": {
     "duration": 50.177293,
     "end_time": "2022-11-18T22:29:01.615091",
     "exception": false,
     "start_time": "2022-11-18T22:28:11.437798",
     "status": "completed"
    },
    "tags": []
   },
   "outputs": [],
   "source": [
    "doc_model = Doc2Vec(dm=0, vector_size=100, min_count=2, window=2, sample = 0)\n",
    "               \n",
    "doc_model.build_vocab(train_tag)"
   ]
  },
  {
   "cell_type": "code",
   "execution_count": 26,
   "id": "c91ce7cf",
   "metadata": {
    "execution": {
     "iopub.execute_input": "2022-11-18T22:29:01.636635Z",
     "iopub.status.busy": "2022-11-18T22:29:01.635717Z",
     "iopub.status.idle": "2022-11-18T22:29:01.643015Z",
     "shell.execute_reply": "2022-11-18T22:29:01.641861Z"
    },
    "papermill": {
     "duration": 0.020087,
     "end_time": "2022-11-18T22:29:01.644955",
     "exception": false,
     "start_time": "2022-11-18T22:29:01.624868",
     "status": "completed"
    },
    "tags": []
   },
   "outputs": [
    {
     "data": {
      "text/plain": [
       "78689207"
      ]
     },
     "execution_count": 26,
     "metadata": {},
     "output_type": "execute_result"
    }
   ],
   "source": [
    "doc_model.corpus_total_words"
   ]
  },
  {
   "cell_type": "code",
   "execution_count": 27,
   "id": "531b77fc",
   "metadata": {
    "execution": {
     "iopub.execute_input": "2022-11-18T22:29:01.666817Z",
     "iopub.status.busy": "2022-11-18T22:29:01.665733Z",
     "iopub.status.idle": "2022-11-19T00:41:42.575524Z",
     "shell.execute_reply": "2022-11-19T00:41:42.574341Z"
    },
    "papermill": {
     "duration": 7960.931928,
     "end_time": "2022-11-19T00:41:42.586796",
     "exception": false,
     "start_time": "2022-11-18T22:29:01.654868",
     "status": "completed"
    },
    "tags": []
   },
   "outputs": [
    {
     "name": "stdout",
     "output_type": "stream",
     "text": [
      "CPU times: user 3h 2min 6s, sys: 23min 2s, total: 3h 25min 9s\n",
      "Wall time: 2h 12min 40s\n"
     ]
    }
   ],
   "source": [
    "%time doc_model.train(train_tag, total_examples=doc_model.corpus_count, epochs=30) "
   ]
  },
  {
   "cell_type": "code",
   "execution_count": 28,
   "id": "c9a73733",
   "metadata": {
    "execution": {
     "iopub.execute_input": "2022-11-19T00:41:42.606998Z",
     "iopub.status.busy": "2022-11-19T00:41:42.606680Z",
     "iopub.status.idle": "2022-11-19T00:41:43.756350Z",
     "shell.execute_reply": "2022-11-19T00:41:43.755340Z"
    },
    "papermill": {
     "duration": 1.16261,
     "end_time": "2022-11-19T00:41:43.758920",
     "exception": false,
     "start_time": "2022-11-19T00:41:42.596310",
     "status": "completed"
    },
    "tags": []
   },
   "outputs": [],
   "source": [
    "doc_model.save('model.doc2vec')"
   ]
  },
  {
   "cell_type": "code",
   "execution_count": 29,
   "id": "4890249c",
   "metadata": {
    "execution": {
     "iopub.execute_input": "2022-11-19T00:41:43.808653Z",
     "iopub.status.busy": "2022-11-19T00:41:43.808233Z",
     "iopub.status.idle": "2022-11-19T00:41:43.813288Z",
     "shell.execute_reply": "2022-11-19T00:41:43.812620Z"
    },
    "papermill": {
     "duration": 0.045296,
     "end_time": "2022-11-19T00:41:43.814929",
     "exception": false,
     "start_time": "2022-11-19T00:41:43.769633",
     "status": "completed"
    },
    "tags": []
   },
   "outputs": [],
   "source": [
    "def vector_for_learning(model, input_docs):\n",
    "    sents = input_docs\n",
    "    targets, feature_vectors = zip(*[(doc.tags[0], model.infer_vector(doc.words, steps=20)) for doc in sents])\n",
    "    return targets, feature_vectors"
   ]
  },
  {
   "cell_type": "code",
   "execution_count": 30,
   "id": "9f9010b8",
   "metadata": {
    "execution": {
     "iopub.execute_input": "2022-11-19T00:41:43.837315Z",
     "iopub.status.busy": "2022-11-19T00:41:43.836504Z",
     "iopub.status.idle": "2022-11-19T03:10:17.600575Z",
     "shell.execute_reply": "2022-11-19T03:10:17.599203Z"
    },
    "papermill": {
     "duration": 8913.77859,
     "end_time": "2022-11-19T03:10:17.603104",
     "exception": false,
     "start_time": "2022-11-19T00:41:43.824514",
     "status": "completed"
    },
    "tags": []
   },
   "outputs": [],
   "source": [
    "y_train, X_train = vector_for_learning(doc_model, train_tag)\n",
    "y_test, X_test = vector_for_learning(doc_model, test_tag)"
   ]
  },
  {
   "cell_type": "markdown",
   "id": "01a2915d",
   "metadata": {
    "papermill": {
     "duration": 0.010398,
     "end_time": "2022-11-19T03:10:17.624572",
     "exception": false,
     "start_time": "2022-11-19T03:10:17.614174",
     "status": "completed"
    },
    "tags": []
   },
   "source": [
    "# Logistic Regression"
   ]
  },
  {
   "cell_type": "code",
   "execution_count": 31,
   "id": "6bd00088",
   "metadata": {
    "execution": {
     "iopub.execute_input": "2022-11-19T03:10:17.647115Z",
     "iopub.status.busy": "2022-11-19T03:10:17.646571Z",
     "iopub.status.idle": "2022-11-19T03:10:17.651716Z",
     "shell.execute_reply": "2022-11-19T03:10:17.650571Z"
    },
    "papermill": {
     "duration": 0.019555,
     "end_time": "2022-11-19T03:10:17.654256",
     "exception": false,
     "start_time": "2022-11-19T03:10:17.634701",
     "status": "completed"
    },
    "tags": []
   },
   "outputs": [],
   "source": [
    "from sklearn.linear_model import LogisticRegression\n",
    "from sklearn.metrics import confusion_matrix, accuracy_score, classification_report, f1_score"
   ]
  },
  {
   "cell_type": "code",
   "execution_count": 32,
   "id": "58427823",
   "metadata": {
    "execution": {
     "iopub.execute_input": "2022-11-19T03:10:17.677618Z",
     "iopub.status.busy": "2022-11-19T03:10:17.676942Z",
     "iopub.status.idle": "2022-11-19T03:17:14.488808Z",
     "shell.execute_reply": "2022-11-19T03:17:14.487851Z"
    },
    "papermill": {
     "duration": 416.826886,
     "end_time": "2022-11-19T03:17:14.491493",
     "exception": false,
     "start_time": "2022-11-19T03:10:17.664607",
     "status": "completed"
    },
    "tags": []
   },
   "outputs": [],
   "source": [
    "log_reg = LogisticRegression(solver=\"sag\")\n",
    "log_reg.fit(X_train, y_train)\n",
    "y_lgpred = log_reg.predict(X_test)"
   ]
  },
  {
   "cell_type": "code",
   "execution_count": 33,
   "id": "f80b90fb",
   "metadata": {
    "execution": {
     "iopub.execute_input": "2022-11-19T03:17:14.516802Z",
     "iopub.status.busy": "2022-11-19T03:17:14.515843Z",
     "iopub.status.idle": "2022-11-19T03:17:26.567247Z",
     "shell.execute_reply": "2022-11-19T03:17:26.566120Z"
    },
    "papermill": {
     "duration": 12.063978,
     "end_time": "2022-11-19T03:17:26.569312",
     "exception": false,
     "start_time": "2022-11-19T03:17:14.505334",
     "status": "completed"
    },
    "tags": []
   },
   "outputs": [
    {
     "name": "stdout",
     "output_type": "stream",
     "text": [
      "Testing accuracy 0.9450009324356305\n",
      "Testing F1 score: 0.9445476377997508\n"
     ]
    }
   ],
   "source": [
    "print('Testing accuracy %s' % accuracy_score(y_lgpred, y_test))\n",
    "print('Testing F1 score: {}'.format(f1_score(y_test, y_lgpred, average='weighted')))"
   ]
  },
  {
   "cell_type": "markdown",
   "id": "da64291b",
   "metadata": {
    "papermill": {
     "duration": 0.010222,
     "end_time": "2022-11-19T03:17:26.589546",
     "exception": false,
     "start_time": "2022-11-19T03:17:26.579324",
     "status": "completed"
    },
    "tags": []
   },
   "source": [
    "# Stochastic Gradient Descent"
   ]
  },
  {
   "cell_type": "code",
   "execution_count": 34,
   "id": "0115f4f7",
   "metadata": {
    "execution": {
     "iopub.execute_input": "2022-11-19T03:17:26.610483Z",
     "iopub.status.busy": "2022-11-19T03:17:26.610111Z",
     "iopub.status.idle": "2022-11-19T03:17:26.614164Z",
     "shell.execute_reply": "2022-11-19T03:17:26.613477Z"
    },
    "papermill": {
     "duration": 0.017159,
     "end_time": "2022-11-19T03:17:26.616537",
     "exception": false,
     "start_time": "2022-11-19T03:17:26.599378",
     "status": "completed"
    },
    "tags": []
   },
   "outputs": [],
   "source": [
    "from sklearn.linear_model import SGDClassifier\n",
    "from sklearn.metrics import confusion_matrix, accuracy_score, classification_report, f1_score"
   ]
  },
  {
   "cell_type": "code",
   "execution_count": 35,
   "id": "92391b24",
   "metadata": {
    "execution": {
     "iopub.execute_input": "2022-11-19T03:17:26.637940Z",
     "iopub.status.busy": "2022-11-19T03:17:26.637522Z",
     "iopub.status.idle": "2022-11-19T03:18:27.228137Z",
     "shell.execute_reply": "2022-11-19T03:18:27.226593Z"
    },
    "papermill": {
     "duration": 60.604065,
     "end_time": "2022-11-19T03:18:27.230725",
     "exception": false,
     "start_time": "2022-11-19T03:17:26.626660",
     "status": "completed"
    },
    "tags": []
   },
   "outputs": [],
   "source": [
    "clf = SGDClassifier(loss=\"modified_huber\")\n",
    "clf.fit(X_train, y_train)\n",
    "y_sgdpred = clf.predict(X_test)"
   ]
  },
  {
   "cell_type": "code",
   "execution_count": 36,
   "id": "b09a66d3",
   "metadata": {
    "execution": {
     "iopub.execute_input": "2022-11-19T03:18:27.253341Z",
     "iopub.status.busy": "2022-11-19T03:18:27.252981Z",
     "iopub.status.idle": "2022-11-19T03:18:39.382315Z",
     "shell.execute_reply": "2022-11-19T03:18:39.381122Z"
    },
    "papermill": {
     "duration": 12.142878,
     "end_time": "2022-11-19T03:18:39.384215",
     "exception": false,
     "start_time": "2022-11-19T03:18:27.241337",
     "status": "completed"
    },
    "tags": []
   },
   "outputs": [
    {
     "name": "stdout",
     "output_type": "stream",
     "text": [
      "Testing accuracy 0.9452467943866539\n",
      "Testing F1 score: 0.9446127443180468\n"
     ]
    }
   ],
   "source": [
    "print('Testing accuracy %s' % accuracy_score(y_sgdpred, y_test))\n",
    "print('Testing F1 score: {}'.format(f1_score(y_test, y_sgdpred, average='weighted')))"
   ]
  }
 ],
 "metadata": {
  "kernelspec": {
   "display_name": "Python 3",
   "language": "python",
   "name": "python3"
  },
  "language_info": {
   "codemirror_mode": {
    "name": "ipython",
    "version": 3
   },
   "file_extension": ".py",
   "mimetype": "text/x-python",
   "name": "python",
   "nbconvert_exporter": "python",
   "pygments_lexer": "ipython3",
   "version": "3.7.12"
  },
  "papermill": {
   "default_parameters": {},
   "duration": 19122.738168,
   "end_time": "2022-11-19T03:18:43.254868",
   "environment_variables": {},
   "exception": null,
   "input_path": "__notebook__.ipynb",
   "output_path": "__notebook__.ipynb",
   "parameters": {},
   "start_time": "2022-11-18T22:00:00.516700",
   "version": "2.3.4"
  }
 },
 "nbformat": 4,
 "nbformat_minor": 5
}
